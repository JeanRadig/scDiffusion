{
 "cells": [
  {
   "cell_type": "markdown",
   "metadata": {},
   "source": [
    "# Reproducing results conditional tabula muris single cell diffusion"
   ]
  },
  {
   "cell_type": "markdown",
   "metadata": {},
   "source": [
    "## Before running the notebook, ensure you have ran the following commands, as described in detail in the README found in Jean_Instructions folder"
   ]
  },
  {
   "cell_type": "markdown",
   "metadata": {},
   "source": [
    "## You have trained the VAE"
   ]
  },
  {
   "cell_type": "markdown",
   "metadata": {},
   "source": [
    "```jsx\n",
    "echo \"Training Autoencoder, this might take a long time\"\n",
    "CUDA_VISIBLE_DEVICES=0 python /path/to/VAE_train.py --data_dir '/path/where/you/saved/tabula_muris/all.h5ad' --num_genes 18996 --state_dict '/path/where/you/saved/scimilarity/pretrained/wrights/annotation_model_v1' --save_dir '/dir/where/to/save/the/trained/VAE/model/' --max_steps 200000 --max_minutes 600\n",
    "echo \"Training Autoencoder done\"\n",
    "```"
   ]
  },
  {
   "cell_type": "markdown",
   "metadata": {},
   "source": [
    "## You have trained the diffusion model"
   ]
  },
  {
   "cell_type": "markdown",
   "metadata": {},
   "source": [
    "```jsx\n",
    "echo \"Training diffusion backbone\"\n",
    "CUDA_VISIBLE_DEVICES=0 python path/to/cell_train.py --data_dir '/path/where/you/saved/tabula_muris/all.h5ad' --vae_path '/path/where/you/saved/VAE/model.pt'   \\\n",
    "    --save_dir '/dir/where/to/save/the/trained/diffusion/model/' --model_name 'name_you_want_to_give' --lr_anneal_steps 80000\n",
    "echo \"Training diffusion backbone done\"\n",
    "```"
   ]
  },
  {
   "cell_type": "markdown",
   "metadata": {},
   "source": [
    "## You have trained the classifier "
   ]
  },
  {
   "cell_type": "markdown",
   "metadata": {},
   "source": [
    "```jsx\n",
    "echo \"Training classifier\"\n",
    "CUDA_VISIBLE_DEVICES=0 python /path/to/classifier_train.py --data_dir '/path/where/you/saved/tabula_muris/all.h5ad' --vae_path '/path/where/you/saved/the/VAE/model.pt' --model_path '/path/where/you/want/to/save/the/classifier_model' --iterations 400_000 \n",
    "echo \"Training classifier, done\"\n",
    "```"
   ]
  },
  {
   "cell_type": "markdown",
   "metadata": {},
   "source": [
    "## You created latent spaces"
   ]
  },
  {
   "cell_type": "markdown",
   "metadata": {},
   "source": [
    "```jsx\n",
    "# Conditional sampling to get the .npz\n",
    "python /path/to/classifier_sample.py --classifier_path \"/path/to/classifier/model.pt\" --model_path \"/path/to/diffusion/model.pt\" --sample_dir \"/dir/where/to/save/the/generated/latent/spaces\" --num_gene 18996\n",
    "````"
   ]
  },
  {
   "cell_type": "markdown",
   "metadata": {},
   "source": [
    "## Then you can run the following commands "
   ]
  },
  {
   "cell_type": "code",
   "execution_count": 1,
   "metadata": {},
   "outputs": [],
   "source": [
    "### CHANGE ACCORDING TO YOUR FILE SYSTEM ###\n",
    "path_to_anndata = '/path/where/you/saved/tabula_muris/all.h5ad'\n",
    "path_to_saved_VAE_model = '/path/where/you/saved/the/VAE/model.pt'\n",
    "path_to_conditional_sample = '/dir/where/you/saved/the/generated/latent/spaces'"
   ]
  },
  {
   "cell_type": "code",
   "execution_count": null,
   "metadata": {},
   "outputs": [],
   "source": [
    "import os\n",
    "os.environ['CUDA_VISIBLE_DEVICES'] = '0'\n",
    "import anndata as ad\n",
    "import scanpy as sc\n",
    "import matplotlib.pyplot as plt\n",
    "import numpy as np\n",
    "import pandas as pd\n",
    "import random\n",
    "from scipy import stats\n",
    "import torch\n",
    "import sys\n",
    "sys.path.append('/workspace/projects/001_scDiffusion/scripts/scDiffusion') ### CHANGE ACCORDING TO YOUR SYSTEM\n",
    "from VAE.VAE_model import VAE"
   ]
  },
  {
   "cell_type": "code",
   "execution_count": null,
   "metadata": {},
   "outputs": [],
   "source": [
    "def load_VAE():\n",
    "    autoencoder = VAE(\n",
    "        num_genes=18996,\n",
    "        device='cpu',\n",
    "        seed=0,\n",
    "        loss_ae='mse',\n",
    "        hidden_dim=128,\n",
    "        decoder_activation='ReLU',\n",
    "    )\n",
    "    autoencoder.load_state_dict(torch.load(path_to_saved_VAE_model, map_location=torch.device('cpu')))\n",
    "    return autoencoder"
   ]
  },
  {
   "cell_type": "code",
   "execution_count": null,
   "metadata": {},
   "outputs": [],
   "source": [
    " # Load generated data\n",
    "gen_data = []\n",
    "gen_data_cell_type = []\n",
    "tissues = ['Bladder', 'Heart_and_Aorta', 'Kidney', 'Limb_Muscle', 'Liver',\n",
    "       'Lung', 'Mammary_Gland', 'Marrow', 'Spleen', 'Thymus', 'Tongue',\n",
    "       'Trachea']\n",
    "for tissue in tissues:\n",
    "\tnpzfile=np.load(f'{path_to_conditional_sample}/tissue_{tissue}.npz',allow_pickle=True)\n",
    "\tnumber_of_cells = adata[adata.obs['celltype']==tissue].X.shape[0]\n",
    "\tgen_data.append(npzfile['cell_gen'][:number_of_cells])#.squeeze(1)\n",
    "\tgen_data_cell_type+=['gen '+tissue]*number_of_cells\n",
    "\tgen_data = np.concatenate(gen_data,axis=0)\n",
    "\n",
    "autoencoder = load_VAE()\n",
    "gen_data = autoencoder(torch.tensor(gen_data),return_decoded=True).cpu().detach().numpy()"
   ]
  },
  {
   "cell_type": "code",
   "execution_count": null,
   "metadata": {},
   "outputs": [],
   "source": [
    "# Concatenate, filter and compute umap\n",
    "adata = np.concatenate((real_data, gen_data),axis=0)\n",
    "adata = ad.AnnData(adata, dtype=np.float32)\n",
    "adata.obs['cell_type'] = np.concatenate((real_data_cell_type, gen_data_cell_type))\n",
    "adata.obs['data_type'] = [f\"real\" for i in range(real_data.shape[0])]+[f\"generated\" for i in range(gen_data.shape[0])]\n",
    "sc.pp.highly_variable_genes(adata, min_mean=0.0125, max_mean=3, min_disp=0.5)\n",
    "adata.raw = adata\n",
    "adata = adata[:, adata.var.highly_variable]\n",
    "sc.pp.scale(adata)\n",
    "sc.tl.pca(adata, svd_solver='arpack')\n",
    "sc.pp.neighbors(adata, n_neighbors=10, n_pcs=20)\n",
    "sc.tl.umap(adata)"
   ]
  },
  {
   "cell_type": "code",
   "execution_count": null,
   "metadata": {},
   "outputs": [],
   "source": [
    "# Plot the umaps\n",
    "for tissue in tissues:\n",
    "    color_dict = {}\n",
    "    for cat in np.unique(adata.obs['cell_type'].values):\n",
    "        if cat == tissue:\n",
    "            color_dict[cat] = 'tab:orange'\n",
    "        elif cat == 'gen '+tissue:\n",
    "            color_dict[cat] = 'tab:blue'\n",
    "        else:\n",
    "            color_dict[cat] = 'black'\n",
    "    sc.pl.umap(adata=adata,color=\"cell_type\",groups=[tissue,'gen '+tissue],size=8, palette=color_dict, show = True, title = tissue)"
   ]
  }
 ],
 "metadata": {
  "kernelspec": {
   "display_name": "base",
   "language": "python",
   "name": "python3"
  },
  "language_info": {
   "codemirror_mode": {
    "name": "ipython",
    "version": 3
   },
   "file_extension": ".py",
   "mimetype": "text/x-python",
   "name": "python",
   "nbconvert_exporter": "python",
   "pygments_lexer": "ipython3",
   "version": "3.10.8"
  }
 },
 "nbformat": 4,
 "nbformat_minor": 2
}
