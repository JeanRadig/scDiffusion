{
 "cells": [
  {
   "cell_type": "code",
   "execution_count": null,
   "metadata": {},
   "outputs": [],
   "source": [
    "!CUDA_VISIBLE_DEVICE=0"
   ]
  },
  {
   "cell_type": "markdown",
   "metadata": {},
   "source": [
    "# Before running the above, ensure you have following commands, as described in detail in the README found in Jean_Instructions folder"
   ]
  },
  {
   "cell_type": "markdown",
   "metadata": {},
   "source": [
    "## You have trained the VAE"
   ]
  },
  {
   "cell_type": "markdown",
   "metadata": {},
   "source": [
    "```jsx\n",
    "echo \"Training Autoencoder, this might take a long time\"\n",
    "CUDA_VISIBLE_DEVICES=0 python /path/to/VAE_train.py --data_dir '/path/where/you/saved/tabula_muris/all.h5ad' --num_genes 18996 --state_dict '/path/where/you/saved/scimilarity/pretrained/wrights/annotation_model_v1' --save_dir '/dir/where/to/save/the/trained/VAE/model/' --max_steps 200000 --max_minutes 600\n",
    "echo \"Training Autoencoder done\"\n",
    "```"
   ]
  },
  {
   "cell_type": "markdown",
   "metadata": {},
   "source": [
    "## You have trained the diffusion model"
   ]
  },
  {
   "cell_type": "markdown",
   "metadata": {},
   "source": [
    "```jsx\n",
    "echo \"Training diffusion backbone\"\n",
    "CUDA_VISIBLE_DEVICES=0 python path/to/cell_train.py --data_dir '/path/where/you/saved/tabula_muris/all.h5ad' --vae_path '/path/where/you/saved/VAE/model.pt'   \\\n",
    "    --save_dir '/dir/where/to/save/the/trained/diffusion/model/' --model_name 'name_you_want_to_give' --lr_anneal_steps 80000\n",
    "echo \"Training diffusion backbone done\"\n",
    "```"
   ]
  },
  {
   "cell_type": "markdown",
   "metadata": {},
   "source": [
    "## You have generated the latent space"
   ]
  },
  {
   "cell_type": "markdown",
   "metadata": {},
   "source": [
    "```jsx\n",
    "python path/to/cell_sample.py --model_path \"/path/where/you/saved/diffusion/model.pt\" --sample_dir \"/file/where/to/save/the/generated/latent/space/example.npz\"\n",
    "```"
   ]
  },
  {
   "cell_type": "markdown",
   "metadata": {},
   "source": [
    "## Then, you can run the following"
   ]
  },
  {
   "cell_type": "code",
   "execution_count": null,
   "metadata": {},
   "outputs": [],
   "source": [
    "### CHANGE ACCORDING TO YOUR FILE SYSTEM ###\n",
    "path_to_anndata = '/path/where/you/saved/tabula_muris/all.h5ad'\n",
    "path_to_saved_VAE_model = '/path/where/you/saved/VAE/model.pt'\n",
    "path_to_unconditional_sample = '/file/where/you/saved/the/latent/space/example.npz'"
   ]
  },
  {
   "cell_type": "code",
   "execution_count": null,
   "metadata": {},
   "outputs": [],
   "source": [
    "import os\n",
    "os.environ['CUDA_VISIBLE_DEVICES'] = '0'\n",
    "import anndata as ad\n",
    "import scanpy as sc\n",
    "import matplotlib.pyplot as plt\n",
    "import numpy as np\n",
    "import pandas as pd\n",
    "import random\n",
    "from scipy import stats\n",
    "import torch\n",
    "import sys\n",
    "sys.path.append('..') ### CHANGE TO THE PATH WHERE THE FOLDER VAE IS LOCATED\n",
    "from VAE.VAE_model import VAE "
   ]
  },
  {
   "cell_type": "code",
   "execution_count": null,
   "metadata": {},
   "outputs": [],
   "source": [
    "def load_VAE():\n",
    "    autoencoder = VAE(\n",
    "        num_genes=18996,\n",
    "        device='cpu',\n",
    "        seed=0,\n",
    "        loss_ae='mse',\n",
    "        hidden_dim=128,\n",
    "        decoder_activation='ReLU',\n",
    "    )\n",
    "    autoencoder.load_state_dict(torch.load(path_to_saved_VAE_model, map_location=torch.device('cpu')))\n",
    "    return autoencoder"
   ]
  },
  {
   "cell_type": "code",
   "execution_count": null,
   "metadata": {},
   "outputs": [],
   "source": [
    "# LOAD REAL DATA\n",
    "adata = sc.read_h5ad(path_to_anndata)\n",
    "adata = adata[np.where(adata.obs['celltype'].values.isnull()==0)[0]][::5]\n",
    "sc.pp.normalize_total(adata, target_sum=1e4)\n",
    "sc.pp.log1p(adata)\n",
    "gene_names = adata.var_names\n",
    "celltype = adata.obs['celltype']\n",
    "real_data = adata.X.toarray()\n",
    "real_data.shape"
   ]
  },
  {
   "cell_type": "code",
   "execution_count": null,
   "metadata": {},
   "outputs": [],
   "source": [
    "# LOAD GENERATED DATA\n",
    "npzfile=np.load(path_to_unconditional_sample,allow_pickle=True)\n",
    "cell_gen_all = npzfile['cell_gen'][::]\n",
    "autoencoder = load_VAE()\n",
    "gen_data = autoencoder(torch.tensor(cell_gen_all),return_decoded=True).cpu().detach().numpy()\n",
    "gen_data.shape"
   ]
  },
  {
   "cell_type": "code",
   "execution_count": null,
   "metadata": {},
   "outputs": [],
   "source": [
    "# CONCATENATE, FILTER AND COMPUTE UMAP\n",
    "adata = np.concatenate((real_data, gen_data),axis=0)\n",
    "adata = ad.AnnData(adata, dtype=np.float32)\n",
    "adata.obs['cell_name'] = [f\"real\" for i in range(real_data.shape[0])]+[f\"generated\" for i in range(gen_data.shape[0])]\n",
    "sc.pp.highly_variable_genes(adata, min_mean=0.0125, max_mean=3, min_disp=0.5)\n",
    "adata.raw = adata\n",
    "adata = adata[:, adata.var.highly_variable]\n",
    "sc.pp.scale(adata)\n",
    "sc.tl.pca(adata, svd_solver='arpack')\n",
    "sc.pp.neighbors(adata, n_neighbors=10, n_pcs=20)\n",
    "sc.tl.umap(adata)"
   ]
  },
  {
   "cell_type": "code",
   "execution_count": null,
   "metadata": {},
   "outputs": [],
   "source": [
    "# PLOT THE UMAP\n",
    "sc.pl.umap(adata=adata,color=\"cell_name\",size=6,title='Tabula muris',palette={\"real\":\"tab:blue\", \"generated\":\"tab:orange\"})"
   ]
  }
 ],
 "metadata": {
  "language_info": {
   "name": "python"
  }
 },
 "nbformat": 4,
 "nbformat_minor": 2
}
