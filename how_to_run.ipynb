{
 "cells": [
  {
   "cell_type": "markdown",
   "metadata": {},
   "source": [
    "# Instructions: how to use scDiffusion"
   ]
  },
  {
   "cell_type": "markdown",
   "metadata": {},
   "source": [
    "# Data"
   ]
  },
  {
   "cell_type": "markdown",
   "metadata": {},
   "source": [
    "- Download the muris dataset (muris.zip) from: https://figshare.com/s/49b29cb24b27ec8b6d72. \n",
    "- Download the SCimilarity weights (annotation_model_v1.tar.gz) from: https://zenodo.org/records/8286452"
   ]
  },
  {
   "cell_type": "markdown",
   "metadata": {},
   "source": [
    "## Training the models: train the VAE, the diffusion model and the classifier"
   ]
  },
  {
   "cell_type": "markdown",
   "metadata": {},
   "source": [
    "Given an AnnData file you wish to analyze, named `anndata.h5ad`, please follow these steps in your command line to create the necessary input data:\n",
    "\n",
    "1. **Train VAE**:\n",
    "   - Prior to training, create the folder `path/to/saved_VAE_model`.\n",
    "   - In the terminal, navigate to the `VAE` directory:\n",
    "     ```bash\n",
    "     cd VAE\n",
    "     ```\n",
    "   - Run the following command to train the Autoencoder:\n",
    "     ```bash\n",
    "     echo \"Training Autoencoder, this might take a long time\" \n",
    "     CUDA_VISIBLE_DEVICES=0 python VAE_train.py --data_dir 'path/to/anndata.h5ad' --num_genes 18996 --save_dir 'path/to/saved_VAE_model' --max_steps 200000\n",
    "     echo \"Training Autoencoder done\"\n",
    "     ```\n",
    "  - **Example**\n",
    "      ```python \n",
    "        cd VAE\n",
    "        echo \"Training Autoencoder, this might take a long time\"\n",
    "        CUDA_VISIBLE_DEVICES=0 python VAE_train.py --data_dir '/workspace/projects/001_scDiffusion/data/data_in/tabula_muris/all.h5ad' --num_genes 18996 --state_dict \"/workspace/projects/001_scDiffusion/scripts/scDiffusion/annotation_model_v1\" --save_dir '../checkpoint/AE/my_VAE' --max_steps 200000 --max_minutes 15\n",
    "        echo \"Training Autoencoder done\"\n",
    "      ```\n",
    "      Where the muris data was unzipped at:\n",
    "      ```python\n",
    "      '/workspace/projects/001_scDiffusion/data/data_in/tabula_muris/all.h5ad'\n",
    "      ```\n",
    "      And the SCimilarity weights were downloaded and unzipped at:\n",
    "      ```python\n",
    "      '/workspace/projects/001_scDiffusion/scripts/scDiffusion/annotation_model_v1'\n",
    "      ```\n",
    "    \n",
    "\n",
    "\n",
    "\n",
    "\n",
    "2. **Train the Diffusion Model**:\n",
    "   - Prior to training, create the folder `path/to/saved_diffusion_model`.\n",
    "   - In the terminal, navigate back to the root directory:\n",
    "     ```bash\n",
    "     cd ..\n",
    "     ```\n",
    "   - Run the following command to train the diffusion backbone:\n",
    "     ```bash\n",
    "     echo \"Training diffusion backbone\"\n",
    "     CUDA_VISIBLE_DEVICES=0 python cell_train.py --data_dir 'path/to/anndata.h5ad'  --vae_path 'path/to/saved_VAE_model/VAE_checkpoint.pt' \\\n",
    "         --save_dir 'path/to/saved_diffusion_model' --model_name 'my_diffusion' --save_interval 20000\n",
    "     echo \"Training diffusion backbone done\"\n",
    "     ```\n",
    "\n",
    "3. **Train the Classifier**:\n",
    "   - Prior to training, create the folder `path/to/saved_classifier_model`.\n",
    "   - Run the following command to train the classifier:\n",
    "     ```bash\n",
    "     echo \"Training classifier\"\n",
    "     CUDA_VISIBLE_DEVICES=0 python classifier_train.py --data_dir 'path/to/anndata.h5ad' --model_path \"path/to/saved_classifier_model\" \\\n",
    "         --iterations 40000 --vae_path 'path/to/saved_VAE_model/VAE_checkpoint.pt'\n",
    "     echo \"Training classifier, done\"\n",
    "     ```"
   ]
  },
  {
   "cell_type": "markdown",
   "metadata": {},
   "source": [
    "## Generate new samples "
   ]
  },
  {
   "cell_type": "markdown",
   "metadata": {},
   "source": [
    "Once the models are trained, you need to create the `.npz` files which will serve as input for the following steps. To do this:\n",
    "\n",
    "1. **Unconditional Sampling (Generate Data from Diffusion Model)**:\n",
    "   - Prior to sampling, create the folder `path/to/saved_unconditional_sampling`.\n",
    "   - Run the following command to perform unconditional sampling:\n",
    "     ```bash\n",
    "     # Unconditional sampling\n",
    "     python cell_sample.py --model_path \"path/to/saved_diffusion_model/checkpoint.pt\" --sample_dir \"path/to/saved_unconditional_sampling\"\n",
    "     ```\n",
    "\n",
    "2. **Conditional Sampling (Generate Data from Classifier Model)**:\n",
    "   - Prior to sampling, create the folder `path/to/saved_conditional_sampling`.\n",
    "   - You also need to modify the `main()` function in `classifier_sample.py` to create the samples based on your specified condition. Here, one needs to modify the ```__main__()``` function to fit the desired purpose. A description is given hereafter. \n",
    "   - Run the following command to perform conditional sampling:\n",
    "     ```bash\n",
    "     # Conditional sampling \n",
    "     python classifier_sample.py --model_path \"path/to/saved_diffusion_model/checkpoint.pt\" --classifier_path \"path/to/saved_classifier_model/checkpoint.pt\" --sample_dir \"path/to/saved_conditional_sampling\"\n",
    "     ```\n",
    "\n",
    "Ensure that you replace `'path/to/anndata.h5ad'`, `'path/to/saved_VAE_model'`, `'path/to/saved_diffusion_model'`, and `'path/to/saved_classifier_model'` with the actual paths in your system. Additionally, make sure to adjust any other parameters according to your specific setup and requirements.\n",
    "\n",
    "3. **Modify the main function of classifier_sample.py**\n",
    "We need to modify the main function of classifier_sample.py to generate the desired samples. \n",
    " - Generate adatas corresponding to interpolation between two cell states. \n",
    "      ```python\n",
    "      # in classifier_sample.py\n",
    "      if __name__ == \"__main__\":\n",
    "         # For Gradient Interpolation, run:\n",
    "         # Range stating the number of samples to generate\n",
    "         for i in range(0,11): \n",
    "            # Create 11 samples between cell type 6 and cell type 7 of the provided anndata\n",
    "               main(cell_type=[6,7], inter=True, weight=[10-i,i])\n",
    "      ```"
   ]
  },
  {
   "cell_type": "markdown",
   "metadata": {},
   "source": []
  }
 ],
 "metadata": {
  "kernelspec": {
   "display_name": "pytorch",
   "language": "python",
   "name": "python3"
  },
  "language_info": {
   "codemirror_mode": {
    "name": "ipython",
    "version": 3
   },
   "file_extension": ".py",
   "mimetype": "text/x-python",
   "name": "python",
   "nbconvert_exporter": "python",
   "pygments_lexer": "ipython3",
   "version": "3.8.13"
  },
  "orig_nbformat": 4,
  "vscode": {
   "interpreter": {
    "hash": "4e7d83ca490bf73dc2547b00b7dbe02b2441b6a62bd03186d7df051bc6fb7973"
   }
  }
 },
 "nbformat": 4,
 "nbformat_minor": 2
}
